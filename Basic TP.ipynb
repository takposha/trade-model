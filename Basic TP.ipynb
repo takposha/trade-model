{
 "cells": [
  {
   "cell_type": "code",
   "execution_count": 1,
   "metadata": {},
   "outputs": [
    {
     "name": "stdout",
     "output_type": "stream",
     "text": [
      "Exports available: {'A': 1000, 'B': 300, 'C': 500, 'D': 800}\n",
      "Imports needed: {'A': 400, 'B': 800, 'C': 1000, 'D': 400}\n"
     ]
    },
    {
     "data": {
      "text/plain": [
       "'Costs Matrix:'"
      ]
     },
     "metadata": {},
     "output_type": "display_data"
    },
    {
     "data": {
      "text/latex": [
       "$$\\left[\\begin{matrix}\\mathrm{None} & 4 & 4 & 6\\\\3 & \\mathrm{None} & 4 & 4\\\\3 & 4 & \\mathrm{None} & 4\\\\4 & 4 & 4 & \\mathrm{None}\\end{matrix}\\right]$$"
      ],
      "text/plain": [
       "⎡None   4     4     6  ⎤\n",
       "⎢                      ⎥\n",
       "⎢ 3    None   4     4  ⎥\n",
       "⎢                      ⎥\n",
       "⎢ 3     4    None   4  ⎥\n",
       "⎢                      ⎥\n",
       "⎣ 4     4     4    None⎦"
      ]
     },
     "metadata": {},
     "output_type": "display_data"
    },
    {
     "data": {
      "text/plain": [
       "'Needed Trades Matrix:'"
      ]
     },
     "metadata": {},
     "output_type": "display_data"
    },
    {
     "data": {
      "text/latex": [
       "$$\\left[\\begin{matrix}\\mathrm{None} & 100 & 200 & 200\\\\0 & \\mathrm{None} & 150 & 0\\\\0 & 150 & \\mathrm{None} & 0\\\\300 & 0 & 0 & \\mathrm{None}\\end{matrix}\\right]$$"
      ],
      "text/plain": [
       "⎡None  100   200   200 ⎤\n",
       "⎢                      ⎥\n",
       "⎢ 0    None  150    0  ⎥\n",
       "⎢                      ⎥\n",
       "⎢ 0    150   None   0  ⎥\n",
       "⎢                      ⎥\n",
       "⎣300    0     0    None⎦"
      ]
     },
     "metadata": {},
     "output_type": "display_data"
    },
    {
     "name": "stdout",
     "output_type": "stream",
     "text": [
      "Exports available to freely trade: {'A': 500, 'B': 150, 'C': 350, 'D': 500}\n",
      "Imports needed from free trade: {'A': 100, 'B': 550, 'C': 650, 'D': 200}\n"
     ]
    }
   ],
   "source": [
    "# Import PuLP modeler functions\n",
    "from pulp import *\n",
    "from sympy import *\n",
    "init_printing(pretty_print = True)\n",
    "\n",
    "NA = 10000   #An arbitrarily high penalty which means a country can't trade with itself\n",
    "def reduce(mat): return Matrix(mat.shape[0], mat.shape[1], lambda i,j: None if abs(mat[i,j]) >= NA else mat[i,j])\n",
    "\n",
    "Countries = ['A', 'B', 'C', 'D']\n",
    "num = len(Countries)\n",
    "trade = [[0 for i in range(num)] for j in range(num)]\n",
    "transport = 0;\n",
    "\n",
    "iniExports = {'A' : 1000, 'B' : 300, 'C' : 500, 'D' : 800}        #Balanced at a net of 260 units of trade\n",
    "iniImports = {'A' : 400, 'B' : 800, 'C' : 1000, 'D' : 400}\n",
    "\n",
    "#Use this table to indicate how many units of trade must occur between certain countries\n",
    "#Read rows, then columm: Country _ must export _ units to Country _\n",
    "neededTrades = [# A B C D\n",
    "                [NA, 100, 200, 200], #A\n",
    "                [0, NA, 150, 0], #B\n",
    "                [0, 150, NA, 0], #C\n",
    "                [300, 0, 0, NA], #D\n",
    "               ]\n",
    "#Costs will fluctuate over time, depending on how tariffs impact costs\n",
    "#Read rows, then columm: Country _ exports to Country _ at tariff _\n",
    "cost = [#Country imports from\n",
    "        #A B C D\n",
    "        [NA, 4, 4, 6], #A   Country\n",
    "        [3, NA, 4, 4], #B   exports\n",
    "        [3, 4, NA, 4], #C   to at\n",
    "        [4, 4, 4, NA], #D   cost\n",
    "       ]\n",
    "\n",
    "#This reaugments the exports and imports that cannot be done freely\n",
    "exports = iniExports.copy()\n",
    "imports = iniImports.copy()\n",
    "for i in range(num):\n",
    "    for j in range(num):\n",
    "        if neededTrades[i][j] != NA:\n",
    "            exports[Countries[i]] -= neededTrades[i][j]\n",
    "            imports[Countries[j]] -= neededTrades[i][j]\n",
    "            transport += neededTrades[i][j] * cost[i][j]\n",
    "            \n",
    "print(\"Exports available:\", iniExports)\n",
    "print(\"Imports needed:\", iniImports)\n",
    "display(\"Costs Matrix:\", reduce(Matrix(cost)))\n",
    "display(\"Needed Trades Matrix:\", reduce(Matrix(neededTrades)))\n",
    "print(\"Exports available to freely trade:\", exports)\n",
    "print(\"Imports needed from free trade:\", imports)"
   ]
  },
  {
   "cell_type": "code",
   "execution_count": 2,
   "metadata": {},
   "outputs": [],
   "source": [
    "def tradeMatrix(cost,exports,imports):\n",
    "    #The following segment utilizes the PuLP solver to find an optimal solution            \n",
    "    # The cost data is made into a dictionary\n",
    "    costs = makeDict([exports,imports],cost,0)\n",
    "\n",
    "    # Creates the 'prob' variable to contain the problem data\n",
    "    prob = LpProblem(\"Trade War Problem\",LpMinimize)\n",
    "\n",
    "    # Creates a list of tuples containing all the possible routes for transport\n",
    "    Routes = [(e,i) for e in exports for i in imports]\n",
    "    vars = LpVariable.dicts(\"Route\",(exports,imports),0,None,LpInteger)\n",
    "\n",
    "    # The objective function is added to 'prob' first\n",
    "    prob += lpSum([vars[e][i]*costs[e][i] for (e,i) in Routes]), \"Sum_of_Transporting_Costs\"\n",
    "\n",
    "    # The supply maximum constraints are added to prob for each supply node\n",
    "    for e in exports:\n",
    "        prob += lpSum([vars[e][i] for i in imports])<=exports[e], \"Sum_of_exports_%s\"%e\n",
    "\n",
    "    # The demand minimum constraints are added to prob for each demand node\n",
    "    for i in imports:\n",
    "        prob += lpSum([vars[e][i] for e in exports])>=imports[i], \"Sum_of_imports_%s\"%i\n",
    "\n",
    "    prob.writeLP(\"TradeWarModel.lp\")\n",
    "    prob.solve()\n",
    "\n",
    "    return prob"
   ]
  },
  {
   "cell_type": "code",
   "execution_count": 3,
   "metadata": {},
   "outputs": [
    {
     "name": "stdout",
     "output_type": "stream",
     "text": [
      "Status: Optimal\n"
     ]
    },
    {
     "data": {
      "text/plain": [
       "'Final trade distribution Matrix:'"
      ]
     },
     "metadata": {},
     "output_type": "display_data"
    },
    {
     "data": {
      "text/latex": [
       "$$\\left[\\begin{matrix}\\mathrm{None} & 600.0 & 200.0 & 200.0\\\\0 & \\mathrm{None} & 300.0 & 0\\\\100.0 & 200.0 & \\mathrm{None} & 200.0\\\\300.0 & 0 & 500.0 & \\mathrm{None}\\end{matrix}\\right]$$"
      ],
      "text/plain": [
       "⎡None   600.0  200.0  200.0⎤\n",
       "⎢                          ⎥\n",
       "⎢  0    None   300.0    0  ⎥\n",
       "⎢                          ⎥\n",
       "⎢100.0  200.0  None   200.0⎥\n",
       "⎢                          ⎥\n",
       "⎣300.0    0    500.0  None ⎦"
      ]
     },
     "metadata": {},
     "output_type": "display_data"
    },
    {
     "name": "stdout",
     "output_type": "stream",
     "text": [
      "Cost of Needed Trading:  4800\n",
      "Cost of Free Trading:  5900\n"
     ]
    }
   ],
   "source": [
    "TD = tradeMatrix(cost,exports,imports)\n",
    "\n",
    "# The status of the solution is printed to the screen\n",
    "print(\"Status:\", LpStatus[TD.status])\n",
    "\n",
    "for v in TD.variables():\n",
    "    trade[Countries.index(v.name[6])][Countries.index(v.name[8])] = v.varValue\n",
    "finalTrade = reduce(Matrix(trade) + Matrix(neededTrades))\n",
    "\n",
    "display(\"Final trade distribution Matrix:\", finalTrade)\n",
    "print(\"Cost of Needed Trading: \", transport)\n",
    "print(\"Cost of Free Trading: \", int(value(TD.objective)))"
   ]
  },
  {
   "cell_type": "code",
   "execution_count": 4,
   "metadata": {},
   "outputs": [
    {
     "name": "stdout",
     "output_type": "stream",
     "text": [
      "Cost spent on Exports:  {'A': 4400, 'B': 1200, 'C': 1900, 'D': 3200}\n",
      "Cost earnt from Imports:  {'A': 1500, 'B': 3200, 'C': 4000, 'D': 2000}\n"
     ]
    }
   ],
   "source": [
    "def CountryExpenses(FT,cost):\n",
    "    exCost = [0 for i in range(num)]\n",
    "    imCost = [0 for i in range(num)]\n",
    "    for i in range(num):\n",
    "        for j in range(num):\n",
    "            if FT[i,j] != None:\n",
    "                exCost[i] += FT[i,j]*cost[i][j]\n",
    "                imCost[j] += FT[i,j]*cost[i][j]\n",
    "    exp = dict(zip(Countries, [int(i) for i in exCost]))\n",
    "    imp = dict(zip(Countries, [int(i) for i in imCost]))\n",
    "    return exp,imp, exCost,imCost\n",
    "\n",
    "CE = CountryExpenses(finalTrade,cost)\n",
    "print('Cost spent on Exports: ', CE[0])\n",
    "print('Cost earnt from Imports: ', CE[1])"
   ]
  },
  {
   "cell_type": "code",
   "execution_count": null,
   "metadata": {},
   "outputs": [],
   "source": []
  }
 ],
 "metadata": {
  "kernelspec": {
   "display_name": "Python 3",
   "language": "python",
   "name": "python3"
  },
  "language_info": {
   "codemirror_mode": {
    "name": "ipython",
    "version": 3
   },
   "file_extension": ".py",
   "mimetype": "text/x-python",
   "name": "python",
   "nbconvert_exporter": "python",
   "pygments_lexer": "ipython3",
   "version": "3.6.5"
  }
 },
 "nbformat": 4,
 "nbformat_minor": 2
}
